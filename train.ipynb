{
 "cells": [
  {
   "cell_type": "code",
   "execution_count": 2,
   "metadata": {},
   "outputs": [],
   "source": [
    "from ddpg import ReplayBuffer, DDPGAgent\n",
    "from fsae.envs import *\n",
    "import time"
   ]
  },
  {
   "cell_type": "code",
   "execution_count": 29,
   "metadata": {},
   "outputs": [],
   "source": [
    "env = RandomTrackEnv(render_mode=\"tp_camera\", seed=0)"
   ]
  },
  {
   "cell_type": "code",
   "execution_count": 33,
   "metadata": {},
   "outputs": [
    {
     "name": "stdout",
     "output_type": "stream",
     "text": [
      "Replay buffer size after load:  12880  vs Batch Size:  2000\n",
      "[ 4.20173299 -1.27204461  1.          4.33277174  1.74832553  2.\n",
      "  8.10899952 -0.85079498  1.          8.50119707  2.24202562  2.        ]\n",
      "total: -1.1202814561196535, step: 0.07537343443269129\n",
      "Replay buffer size after load:  12914  vs Batch Size:  2000\n",
      "[ 4.01519101 -1.42767105  1.          4.22467488  1.588432    2.\n",
      "  7.51890428 -1.10474868  1.          8.0536501   2.00839409  2.        ]\n"
     ]
    },
    {
     "ename": "KeyboardInterrupt",
     "evalue": "",
     "output_type": "error",
     "traceback": [
      "\u001b[1;31m---------------------------------------------------------------------------\u001b[0m",
      "\u001b[1;31mKeyboardInterrupt\u001b[0m                         Traceback (most recent call last)",
      "Cell \u001b[1;32mIn[33], line 27\u001b[0m\n\u001b[0;32m     25\u001b[0m \u001b[38;5;28;01mfor\u001b[39;00m step \u001b[38;5;129;01min\u001b[39;00m \u001b[38;5;28mrange\u001b[39m(max_steps):\n\u001b[0;32m     26\u001b[0m     action \u001b[38;5;241m=\u001b[39m agent\u001b[38;5;241m.\u001b[39mget_action(state)\n\u001b[1;32m---> 27\u001b[0m     next_state, reward, done, _ \u001b[38;5;241m=\u001b[39m \u001b[43menv\u001b[49m\u001b[38;5;241;43m.\u001b[39;49m\u001b[43mstep\u001b[49m\u001b[43m(\u001b[49m\u001b[43maction\u001b[49m\u001b[43m)\u001b[49m\n\u001b[0;32m     28\u001b[0m     replay_buffer\u001b[38;5;241m.\u001b[39madd(state, action, reward, next_state, done)\n\u001b[0;32m     29\u001b[0m     state \u001b[38;5;241m=\u001b[39m next_state\n",
      "File \u001b[1;32mc:\\Git\\ai-in-robotics-41118\\fsae\\envs.py:71\u001b[0m, in \u001b[0;36mRandomTrackEnv.step\u001b[1;34m(self, action)\u001b[0m\n\u001b[0;32m     69\u001b[0m \u001b[38;5;28mself\u001b[39m\u001b[38;5;241m.\u001b[39m_p\u001b[38;5;241m.\u001b[39mstepSimulation()\n\u001b[0;32m     70\u001b[0m \u001b[38;5;28;01mif\u001b[39;00m \u001b[38;5;28mself\u001b[39m\u001b[38;5;241m.\u001b[39m_renders:\n\u001b[1;32m---> 71\u001b[0m     \u001b[43mtime\u001b[49m\u001b[38;5;241;43m.\u001b[39;49m\u001b[43msleep\u001b[49m\u001b[43m(\u001b[49m\u001b[38;5;28;43mself\u001b[39;49m\u001b[38;5;241;43m.\u001b[39;49m\u001b[43m_timeStep\u001b[49m\u001b[43m)\u001b[49m\n\u001b[0;32m     73\u001b[0m carpos, carorn \u001b[38;5;241m=\u001b[39m \u001b[38;5;28mself\u001b[39m\u001b[38;5;241m.\u001b[39m_p\u001b[38;5;241m.\u001b[39mgetBasePositionAndOrientation(\u001b[38;5;28mself\u001b[39m\u001b[38;5;241m.\u001b[39mcar\u001b[38;5;241m.\u001b[39mcar)\n\u001b[0;32m     74\u001b[0m \u001b[38;5;66;03m# goalpos, goalorn = self._p.getBasePositionAndOrientation(\u001b[39;00m\n\u001b[0;32m     75\u001b[0m \u001b[38;5;66;03m#     self.goal_object.goal\u001b[39;00m\n\u001b[0;32m     76\u001b[0m \u001b[38;5;66;03m# )\u001b[39;00m\n",
      "\u001b[1;31mKeyboardInterrupt\u001b[0m: "
     ]
    }
   ],
   "source": [
    "# Initialize the agent, replay buffer, and environment\n",
    "state_dim = 12 # Dimension of the state space\n",
    "action_dim = 2 # Dimension of the action space\n",
    "hidden_dim = 256\n",
    "max_action = 0.6 # Maximum value of the action\n",
    "num_episodes = 10000\n",
    "max_steps = 1000\n",
    "batch_size = 5000\n",
    "\n",
    "replay_buffer = ReplayBuffer(buffer_size=1000000, state_dim=state_dim, action_dim=action_dim)\n",
    "replay_buffer.load_from_csv(\"replayBuffer_teleop_test.csv\")\n",
    "replay_buffer.load_from_csv(\"replayBuffer_train_test.csv\") #add multiple files together\n",
    "agent = DDPGAgent(state_dim, action_dim, hidden_dim, replay_buffer, max_action)\n",
    "\n",
    "if replay_buffer.size > batch_size:\n",
    "    print(\"Replay buffer size after load: \", replay_buffer.size, \" vs Batch Size: \", batch_size)\n",
    "    agent.train(replay_buffer.size)\n",
    "\n",
    "# Training loop\n",
    "for episode in range(num_episodes):\n",
    "    state = env.reset(seed=episode)\n",
    "    print(state)\n",
    "    episode_reward = 0\n",
    "\n",
    "    for step in range(max_steps):\n",
    "        action = agent.get_action(state)\n",
    "        next_state, reward, done, _ = env.step(action)\n",
    "        replay_buffer.add(state, action, reward, next_state, done)\n",
    "        state = next_state\n",
    "        episode_reward += reward\n",
    "\n",
    "        if replay_buffer.size > batch_size:\n",
    "            agent.train(batch_size)\n",
    "\n",
    "        if done:\n",
    "            break\n",
    "    \n",
    "    print(f\"total: {episode_reward}, step: {reward}\")\n",
    "    print(\"Replay buffer size after load: \", replay_buffer.size, \" vs Batch Size: \", batch_size)\n"
   ]
  },
  {
   "cell_type": "markdown",
   "metadata": {},
   "source": []
  },
  {
   "cell_type": "code",
   "execution_count": 32,
   "metadata": {},
   "outputs": [],
   "source": [
    "replay_buffer.save_as_csv(\"replayBuffer_train_test.csv\")"
   ]
  },
  {
   "cell_type": "code",
   "execution_count": 27,
   "metadata": {},
   "outputs": [],
   "source": [
    "env.close()"
   ]
  }
 ],
 "metadata": {
  "kernelspec": {
   "display_name": "ai_quiz_3",
   "language": "python",
   "name": "python3"
  },
  "language_info": {
   "codemirror_mode": {
    "name": "ipython",
    "version": 3
   },
   "file_extension": ".py",
   "mimetype": "text/x-python",
   "name": "python",
   "nbconvert_exporter": "python",
   "pygments_lexer": "ipython3",
   "version": "3.12.3"
  }
 },
 "nbformat": 4,
 "nbformat_minor": 2
}
